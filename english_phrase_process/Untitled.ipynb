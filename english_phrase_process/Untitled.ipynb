{
 "cells": [
  {
   "cell_type": "code",
   "execution_count": 1,
   "metadata": {},
   "outputs": [],
   "source": [
    "from spacy import displacy\n",
    "import en_core_web_sm\n",
    "nlp = en_core_web_sm.load()\n",
    "\n",
    "import nltk\n",
    "from nltk.stem import WordNetLemmatizer\n",
    "wnl = WordNetLemmatizer()"
   ]
  },
  {
   "cell_type": "code",
   "execution_count": 153,
   "metadata": {},
   "outputs": [],
   "source": [
    "class Person():\n",
    "    def __init__(self, name):\n",
    "        self.name = name\n",
    "        self.attr = {}\n",
    "        self.verb = {}\n",
    "        self.bag = {}\n",
    "entities = []"
   ]
  },
  {
   "cell_type": "code",
   "execution_count": 171,
   "metadata": {},
   "outputs": [
    {
     "name": "stdout",
     "output_type": "stream",
     "text": [
      "> What does Stas have?\n",
      "bicycle, byicle\n",
      "> What does Stas eat?\n",
      "['pizza']\n",
      "> Who is old?\n",
      "Stas, Giancarlo\n",
      "> Who is not old?\n",
      "\n",
      "> Who has a bicycle>\n",
      "> Who has a bicycle?\n",
      "Stas, Alena, Who\n",
      "> Who does not have a bicycle?\n",
      "Giancarlo, Marina\n",
      "> \n"
     ]
    }
   ],
   "source": [
    "def process(inp):\n",
    "    if '?' in inp:\n",
    "        question(inp)\n",
    "    else:\n",
    "        statement(inp)\n",
    "\n",
    "def decompose(doc):\n",
    "    root = [token for token in doc if token.head == token][0]\n",
    "    subject = list(root.lefts)[0]\n",
    "    flag_not = True\n",
    "    attr = None\n",
    "    for tok in root.subtree:\n",
    "        if tok.dep_ == 'neg':\n",
    "            flag_not = False\n",
    "        if tok.dep_ == 'attr' or tok.dep_ == 'acomp' or tok.dep_ == 'dobj' or tok.dep_ == 'prep':\n",
    "            attr = tok\n",
    "    return root, subject, attr, flag_not\n",
    "\n",
    "def proc_attr(attr):\n",
    "    return \" \".join([tok.lemma_ for tok in attr if tok.text != 'a' and tok.text != 'the'])\n",
    "    \n",
    "\n",
    "def statement(inp):\n",
    "    doc = nlp(inp)\n",
    "    root, subj, atr,flag_not = decompose(doc)\n",
    "    obj = get_entity(str(subj.text))\n",
    "\n",
    "        \n",
    "    if 'be' == root.lemma_:\n",
    "        atr = proc_attr(doc[atr.left_edge.i : atr.right_edge.i+1])\n",
    "        obj.attr[atr] = flag_not\n",
    "    elif 'have' == root.lemma_:\n",
    "        atr = proc_attr(doc[atr.left_edge.i : atr.right_edge.i+1])\n",
    "        obj.bag[atr] = flag_not\n",
    "    else:\n",
    "        atr = proc_attr(doc[atr.left_edge.i : atr.right_edge.i+1])\n",
    "        if flag_not:\n",
    "            obj.verb.setdefault(root.lemma_, set([])).add(atr)\n",
    "        else:\n",
    "            obj.verb[root.lemma_].discard(atr)\n",
    "    for tok in subj.subtree:\n",
    "        if tok.dep_ == 'compound':\n",
    "            obj.attr[tok.lemma_.lower()] = True\n",
    "\n",
    "    \n",
    "def get_entity(name):\n",
    "    for i in entities:\n",
    "        if i.name == name:\n",
    "            return i\n",
    "    ret = Person(name)\n",
    "    entities.append(ret)\n",
    "    return ret\n",
    "\n",
    "def decompose_question(doc):\n",
    "    root = [token for token in doc if token.head == token][0]\n",
    "    subject = [token for token in root.subtree if token.dep_=='nsubj']\n",
    "    subject = subject[0] if len(subject)>0 else None\n",
    "    flag_not = True\n",
    "    attr = None\n",
    "\n",
    "    for tok in root.subtree:\n",
    "        if tok.dep_ == 'neg':\n",
    "            flag_not = False\n",
    "        if tok.dep_ == 'attr' or tok.dep_ == 'acomp' or tok.dep_ == 'dobj' or tok.dep_ == 'prep':\n",
    "            attr = tok\n",
    "            if subject is None:\n",
    "                subject = [token for token in tok.subtree if token.dep_=='compound'][0]\n",
    "            if subject.lemma_=='who':\n",
    "                subject = None\n",
    "    return root, subject, attr, flag_not\n",
    "\n",
    "def question(inp):\n",
    "    doc = nlp(inp)\n",
    "\n",
    "    root, subj, atr,flag_not = decompose_question(doc)\n",
    "    atr = proc_attr(doc[atr.left_edge.i : atr.right_edge.i+1])\n",
    "    if 'who' in inp.lower():\n",
    "        if 'be' == root.lemma_:\n",
    "            print(\", \".join([ent.name for ent in entities if ent.attr.get(atr, None) is not None and ent.attr.get(atr, None)==flag_not]))\n",
    "        elif 'have' == root.lemma_:\n",
    "            print(\", \".join([ent.name for ent in entities if ent.bag.get(atr, False) == flag_not]))\n",
    "        else:\n",
    "            print(\", \".join([ent.name for ent in entities if atr in ent.verb.get(root.lemma_, [])]))\n",
    "    elif 'what' in inp.lower():\n",
    "        obj = get_entity(str(subj.text))\n",
    "        if 'have' == root.lemma_:\n",
    "            print(\", \".join([elem for (elem,val) in obj.bag.items() if val]))\n",
    "        else:\n",
    "            print(obj.verb.get(root.lemma_, []))\n",
    "            \n",
    "    else:\n",
    "        obj = get_entity(str(subj.text))\n",
    "        if 'be' == root.lemma_:\n",
    "            print(obj.attr.get(atr, \"Unknown\"))\n",
    "        elif 'ha' == root.lemma_:\n",
    "            print(obj.bag.get(atr, \"Unknown\"))\n",
    "        else:\n",
    "            print(obj.verb.get(root.lemma_, \"Unknown\"))\n",
    "\n",
    "a = input(\"> \")\n",
    "while a:\n",
    "    process(a)\n",
    "    a = input(\"> \")"
   ]
  },
  {
   "cell_type": "code",
   "execution_count": 163,
   "metadata": {
    "scrolled": true
   },
   "outputs": [
    {
     "name": "stdout",
     "output_type": "stream",
     "text": [
      "{'name': 'Stas', 'attr': {'old': True, 'doctor': False, 'red': True}, 'verb': {'live': ['in Innopolis'], 'eat': ['pizza']}, 'bag': {'bicycle': True, 'byicle': True}}\n",
      "{'name': 'Giancarlo', 'attr': {'old': True}, 'verb': {'live': ['in Zion']}, 'bag': {}}\n",
      "{'name': 'Alena', 'attr': {}, 'verb': {}, 'bag': {'bicycle': True}}\n",
      "{'name': 'Marina', 'attr': {'doctor': True}, 'verb': {}, 'bag': {}}\n"
     ]
    }
   ],
   "source": [
    "for ent in entities:\n",
    "    print(ent.__dict__)"
   ]
  },
  {
   "cell_type": "code",
   "execution_count": 21,
   "metadata": {},
   "outputs": [
    {
     "name": "stdout",
     "output_type": "stream",
     "text": [
      "Vadim has 3 dildos in ass.\n"
     ]
    },
    {
     "data": {
      "text/html": [
       "<span class=\"tex2jax_ignore\"><svg xmlns=\"http://www.w3.org/2000/svg\" xmlns:xlink=\"http://www.w3.org/1999/xlink\" xml:lang=\"en\" id=\"0cd194d775964943a863887c19ac90b5-0\" class=\"displacy\" width=\"1100\" height=\"312.0\" direction=\"ltr\" style=\"max-width: none; height: 312.0px; color: #000000; background: #ffffff; font-family: Arial; direction: ltr\">\n",
       "<text class=\"displacy-token\" fill=\"currentColor\" text-anchor=\"middle\" y=\"222.0\">\n",
       "    <tspan class=\"displacy-word\" fill=\"currentColor\" x=\"50\">Vadim</tspan>\n",
       "    <tspan class=\"displacy-tag\" dy=\"2em\" fill=\"currentColor\" x=\"50\">PROPN</tspan>\n",
       "</text>\n",
       "\n",
       "<text class=\"displacy-token\" fill=\"currentColor\" text-anchor=\"middle\" y=\"222.0\">\n",
       "    <tspan class=\"displacy-word\" fill=\"currentColor\" x=\"225\">has</tspan>\n",
       "    <tspan class=\"displacy-tag\" dy=\"2em\" fill=\"currentColor\" x=\"225\">AUX</tspan>\n",
       "</text>\n",
       "\n",
       "<text class=\"displacy-token\" fill=\"currentColor\" text-anchor=\"middle\" y=\"222.0\">\n",
       "    <tspan class=\"displacy-word\" fill=\"currentColor\" x=\"400\">3</tspan>\n",
       "    <tspan class=\"displacy-tag\" dy=\"2em\" fill=\"currentColor\" x=\"400\">NUM</tspan>\n",
       "</text>\n",
       "\n",
       "<text class=\"displacy-token\" fill=\"currentColor\" text-anchor=\"middle\" y=\"222.0\">\n",
       "    <tspan class=\"displacy-word\" fill=\"currentColor\" x=\"575\">dildos</tspan>\n",
       "    <tspan class=\"displacy-tag\" dy=\"2em\" fill=\"currentColor\" x=\"575\">NOUN</tspan>\n",
       "</text>\n",
       "\n",
       "<text class=\"displacy-token\" fill=\"currentColor\" text-anchor=\"middle\" y=\"222.0\">\n",
       "    <tspan class=\"displacy-word\" fill=\"currentColor\" x=\"750\">in</tspan>\n",
       "    <tspan class=\"displacy-tag\" dy=\"2em\" fill=\"currentColor\" x=\"750\">ADP</tspan>\n",
       "</text>\n",
       "\n",
       "<text class=\"displacy-token\" fill=\"currentColor\" text-anchor=\"middle\" y=\"222.0\">\n",
       "    <tspan class=\"displacy-word\" fill=\"currentColor\" x=\"925\">ass.</tspan>\n",
       "    <tspan class=\"displacy-tag\" dy=\"2em\" fill=\"currentColor\" x=\"925\">NOUN</tspan>\n",
       "</text>\n",
       "\n",
       "<g class=\"displacy-arrow\">\n",
       "    <path class=\"displacy-arc\" id=\"arrow-0cd194d775964943a863887c19ac90b5-0-0\" stroke-width=\"2px\" d=\"M70,177.0 C70,89.5 220.0,89.5 220.0,177.0\" fill=\"none\" stroke=\"currentColor\"/>\n",
       "    <text dy=\"1.25em\" style=\"font-size: 0.8em; letter-spacing: 1px\">\n",
       "        <textPath xlink:href=\"#arrow-0cd194d775964943a863887c19ac90b5-0-0\" class=\"displacy-label\" startOffset=\"50%\" side=\"left\" fill=\"currentColor\" text-anchor=\"middle\">nsubj</textPath>\n",
       "    </text>\n",
       "    <path class=\"displacy-arrowhead\" d=\"M70,179.0 L62,167.0 78,167.0\" fill=\"currentColor\"/>\n",
       "</g>\n",
       "\n",
       "<g class=\"displacy-arrow\">\n",
       "    <path class=\"displacy-arc\" id=\"arrow-0cd194d775964943a863887c19ac90b5-0-1\" stroke-width=\"2px\" d=\"M420,177.0 C420,89.5 570.0,89.5 570.0,177.0\" fill=\"none\" stroke=\"currentColor\"/>\n",
       "    <text dy=\"1.25em\" style=\"font-size: 0.8em; letter-spacing: 1px\">\n",
       "        <textPath xlink:href=\"#arrow-0cd194d775964943a863887c19ac90b5-0-1\" class=\"displacy-label\" startOffset=\"50%\" side=\"left\" fill=\"currentColor\" text-anchor=\"middle\">nummod</textPath>\n",
       "    </text>\n",
       "    <path class=\"displacy-arrowhead\" d=\"M420,179.0 L412,167.0 428,167.0\" fill=\"currentColor\"/>\n",
       "</g>\n",
       "\n",
       "<g class=\"displacy-arrow\">\n",
       "    <path class=\"displacy-arc\" id=\"arrow-0cd194d775964943a863887c19ac90b5-0-2\" stroke-width=\"2px\" d=\"M245,177.0 C245,2.0 575.0,2.0 575.0,177.0\" fill=\"none\" stroke=\"currentColor\"/>\n",
       "    <text dy=\"1.25em\" style=\"font-size: 0.8em; letter-spacing: 1px\">\n",
       "        <textPath xlink:href=\"#arrow-0cd194d775964943a863887c19ac90b5-0-2\" class=\"displacy-label\" startOffset=\"50%\" side=\"left\" fill=\"currentColor\" text-anchor=\"middle\">dobj</textPath>\n",
       "    </text>\n",
       "    <path class=\"displacy-arrowhead\" d=\"M575.0,179.0 L583.0,167.0 567.0,167.0\" fill=\"currentColor\"/>\n",
       "</g>\n",
       "\n",
       "<g class=\"displacy-arrow\">\n",
       "    <path class=\"displacy-arc\" id=\"arrow-0cd194d775964943a863887c19ac90b5-0-3\" stroke-width=\"2px\" d=\"M595,177.0 C595,89.5 745.0,89.5 745.0,177.0\" fill=\"none\" stroke=\"currentColor\"/>\n",
       "    <text dy=\"1.25em\" style=\"font-size: 0.8em; letter-spacing: 1px\">\n",
       "        <textPath xlink:href=\"#arrow-0cd194d775964943a863887c19ac90b5-0-3\" class=\"displacy-label\" startOffset=\"50%\" side=\"left\" fill=\"currentColor\" text-anchor=\"middle\">prep</textPath>\n",
       "    </text>\n",
       "    <path class=\"displacy-arrowhead\" d=\"M745.0,179.0 L753.0,167.0 737.0,167.0\" fill=\"currentColor\"/>\n",
       "</g>\n",
       "\n",
       "<g class=\"displacy-arrow\">\n",
       "    <path class=\"displacy-arc\" id=\"arrow-0cd194d775964943a863887c19ac90b5-0-4\" stroke-width=\"2px\" d=\"M770,177.0 C770,89.5 920.0,89.5 920.0,177.0\" fill=\"none\" stroke=\"currentColor\"/>\n",
       "    <text dy=\"1.25em\" style=\"font-size: 0.8em; letter-spacing: 1px\">\n",
       "        <textPath xlink:href=\"#arrow-0cd194d775964943a863887c19ac90b5-0-4\" class=\"displacy-label\" startOffset=\"50%\" side=\"left\" fill=\"currentColor\" text-anchor=\"middle\">pobj</textPath>\n",
       "    </text>\n",
       "    <path class=\"displacy-arrowhead\" d=\"M920.0,179.0 L928.0,167.0 912.0,167.0\" fill=\"currentColor\"/>\n",
       "</g>\n",
       "</svg></span>"
      ],
      "text/plain": [
       "<IPython.core.display.HTML object>"
      ]
     },
     "metadata": {},
     "output_type": "display_data"
    }
   ],
   "source": [
    "displacy.render(nlp(input()), jupyter=True, style='dep')"
   ]
  }
 ],
 "metadata": {
  "kernelspec": {
   "display_name": "Python 3",
   "language": "python",
   "name": "python3"
  },
  "language_info": {
   "codemirror_mode": {
    "name": "ipython",
    "version": 3
   },
   "file_extension": ".py",
   "mimetype": "text/x-python",
   "name": "python",
   "nbconvert_exporter": "python",
   "pygments_lexer": "ipython3",
   "version": "3.8.5"
  }
 },
 "nbformat": 4,
 "nbformat_minor": 4
}
